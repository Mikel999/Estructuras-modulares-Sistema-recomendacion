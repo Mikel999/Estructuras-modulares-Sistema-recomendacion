{
  "nbformat": 4,
  "nbformat_minor": 0,
  "metadata": {
    "colab": {
      "provenance": [],
      "collapsed_sections": []
    },
    "kernelspec": {
      "name": "python3",
      "display_name": "Python 3"
    }
  },
  "cells": [
    {
      "cell_type": "markdown",
      "metadata": {
        "id": "MlQrXnfNW-w1"
      },
      "source": [
        "# Filtro basado en contenido"
      ]
    },
    {
      "cell_type": "markdown",
      "metadata": {
        "id": "lRy_dNLKXCn0"
      },
      "source": [
        "Este tipo de filtro no involucra a otros usuarios si no que está basado en uno mismo (recomendación por contenido, no por opiniones subjetivas de otros usuarios). Según lo que le guste al usuario, el algoritmo simplemente seleccionará elementos con contenido similar para recomendarnos.\n",
        "En este caso, habrá menos diversidad en las recomendaciones, pero esto funcionará si el usuario califica las cosas o no. \n",
        "\n",
        "Un ejemplo de la poca diversidad puede ser el siguiente: tal vez al usuario A le guste potencialmente la comedia negra, pero nunca lo sabrá, a menos que decida intentarlo de forma autónoma, porque este filtro solo seguirá recomendando películas distópicas o similares a las vistas o valoradas anteriormente (historial)."
      ]
    },
    {
      "cell_type": "markdown",
      "metadata": {
        "id": "u4Aq87XMYVgE"
      },
      "source": [
        "## Dataset"
      ]
    },
    {
      "cell_type": "markdown",
      "metadata": {
        "id": "3K0TtW-OYYOU"
      },
      "source": [
        "Se ha escogido un dataset de IMDB con las 250 peliculas más valoradas para la implementación del filtro basado en contenido."
      ]
    },
    {
      "cell_type": "code",
      "metadata": {
        "id": "vKq-q5nfq-jM",
        "colab": {
          "base_uri": "https://localhost:8080/",
          "height": 819
        },
        "outputId": "0a110c08-026b-4ef7-d30a-1b2e94defd58"
      },
      "source": [
        "!pip install rake_nltk\n",
        "import pandas as pd\n",
        "from rake_nltk import Rake\n",
        "import numpy as np\n",
        "from sklearn.metrics.pairwise import cosine_similarity\n",
        "from sklearn.feature_extraction.text import CountVectorizer\n",
        "\n",
        "\n",
        "#Conjunto de datos que contiene las 250 películas mejor calificadas de IMDB\n",
        "df = pd.read_csv('https://query.data.world/s/uikepcpffyo2nhig52xxeevdialfl7')\n",
        "\n",
        "df.head()\n"
      ],
      "execution_count": null,
      "outputs": [
        {
          "output_type": "stream",
          "text": [
            "Requirement already satisfied: rake_nltk in /usr/local/lib/python3.7/dist-packages (1.0.4)\n",
            "Requirement already satisfied: nltk in /usr/local/lib/python3.7/dist-packages (from rake_nltk) (3.2.5)\n",
            "Requirement already satisfied: six in /usr/local/lib/python3.7/dist-packages (from nltk->rake_nltk) (1.15.0)\n"
          ],
          "name": "stdout"
        },
        {
          "output_type": "execute_result",
          "data": {
            "text/html": [
              "<div>\n",
              "<style scoped>\n",
              "    .dataframe tbody tr th:only-of-type {\n",
              "        vertical-align: middle;\n",
              "    }\n",
              "\n",
              "    .dataframe tbody tr th {\n",
              "        vertical-align: top;\n",
              "    }\n",
              "\n",
              "    .dataframe thead th {\n",
              "        text-align: right;\n",
              "    }\n",
              "</style>\n",
              "<table border=\"1\" class=\"dataframe\">\n",
              "  <thead>\n",
              "    <tr style=\"text-align: right;\">\n",
              "      <th></th>\n",
              "      <th>Unnamed: 0</th>\n",
              "      <th>Title</th>\n",
              "      <th>Year</th>\n",
              "      <th>Rated</th>\n",
              "      <th>Released</th>\n",
              "      <th>Runtime</th>\n",
              "      <th>Genre</th>\n",
              "      <th>Director</th>\n",
              "      <th>Writer</th>\n",
              "      <th>Actors</th>\n",
              "      <th>Plot</th>\n",
              "      <th>Language</th>\n",
              "      <th>Country</th>\n",
              "      <th>Awards</th>\n",
              "      <th>Poster</th>\n",
              "      <th>Ratings.Source</th>\n",
              "      <th>Ratings.Value</th>\n",
              "      <th>Metascore</th>\n",
              "      <th>imdbRating</th>\n",
              "      <th>imdbVotes</th>\n",
              "      <th>imdbID</th>\n",
              "      <th>Type</th>\n",
              "      <th>tomatoMeter</th>\n",
              "      <th>tomatoImage</th>\n",
              "      <th>tomatoRating</th>\n",
              "      <th>tomatoReviews</th>\n",
              "      <th>tomatoFresh</th>\n",
              "      <th>tomatoRotten</th>\n",
              "      <th>tomatoConsensus</th>\n",
              "      <th>tomatoUserMeter</th>\n",
              "      <th>tomatoUserRating</th>\n",
              "      <th>tomatoUserReviews</th>\n",
              "      <th>tomatoURL</th>\n",
              "      <th>DVD</th>\n",
              "      <th>BoxOffice</th>\n",
              "      <th>Production</th>\n",
              "      <th>Website</th>\n",
              "      <th>Response</th>\n",
              "    </tr>\n",
              "  </thead>\n",
              "  <tbody>\n",
              "    <tr>\n",
              "      <th>0</th>\n",
              "      <td>1</td>\n",
              "      <td>The Shawshank Redemption</td>\n",
              "      <td>1994</td>\n",
              "      <td>R</td>\n",
              "      <td>14 Oct 1994</td>\n",
              "      <td>142 min</td>\n",
              "      <td>Crime, Drama</td>\n",
              "      <td>Frank Darabont</td>\n",
              "      <td>Stephen King (short story \"Rita Hayworth and S...</td>\n",
              "      <td>Tim Robbins, Morgan Freeman, Bob Gunton, Willi...</td>\n",
              "      <td>Two imprisoned men bond over a number of years...</td>\n",
              "      <td>English</td>\n",
              "      <td>USA</td>\n",
              "      <td>Nominated for 7 Oscars. Another 19 wins &amp; 30 n...</td>\n",
              "      <td>https://images-na.ssl-images-amazon.com/images...</td>\n",
              "      <td>Internet Movie Database</td>\n",
              "      <td>9.3/10</td>\n",
              "      <td>80.0</td>\n",
              "      <td>9.3</td>\n",
              "      <td>1,825,626</td>\n",
              "      <td>tt0111161</td>\n",
              "      <td>movie</td>\n",
              "      <td>NaN</td>\n",
              "      <td>NaN</td>\n",
              "      <td>NaN</td>\n",
              "      <td>NaN</td>\n",
              "      <td>NaN</td>\n",
              "      <td>NaN</td>\n",
              "      <td>NaN</td>\n",
              "      <td>NaN</td>\n",
              "      <td>NaN</td>\n",
              "      <td>NaN</td>\n",
              "      <td>http://www.rottentomatoes.com/m/shawshank_rede...</td>\n",
              "      <td>27 Jan 1998</td>\n",
              "      <td>NaN</td>\n",
              "      <td>Columbia Pictures</td>\n",
              "      <td>NaN</td>\n",
              "      <td>True</td>\n",
              "    </tr>\n",
              "    <tr>\n",
              "      <th>1</th>\n",
              "      <td>2</td>\n",
              "      <td>The Godfather</td>\n",
              "      <td>1972</td>\n",
              "      <td>R</td>\n",
              "      <td>24 Mar 1972</td>\n",
              "      <td>175 min</td>\n",
              "      <td>Crime, Drama</td>\n",
              "      <td>Francis Ford Coppola</td>\n",
              "      <td>Mario Puzo (screenplay), Francis Ford Coppola ...</td>\n",
              "      <td>Marlon Brando, Al Pacino, James Caan, Richard ...</td>\n",
              "      <td>The aging patriarch of an organized crime dyna...</td>\n",
              "      <td>English, Italian, Latin</td>\n",
              "      <td>USA</td>\n",
              "      <td>Won 3 Oscars. Another 23 wins &amp; 27 nominations.</td>\n",
              "      <td>https://images-na.ssl-images-amazon.com/images...</td>\n",
              "      <td>Internet Movie Database</td>\n",
              "      <td>9.2/10</td>\n",
              "      <td>100.0</td>\n",
              "      <td>9.2</td>\n",
              "      <td>1,243,444</td>\n",
              "      <td>tt0068646</td>\n",
              "      <td>movie</td>\n",
              "      <td>NaN</td>\n",
              "      <td>NaN</td>\n",
              "      <td>NaN</td>\n",
              "      <td>NaN</td>\n",
              "      <td>NaN</td>\n",
              "      <td>NaN</td>\n",
              "      <td>NaN</td>\n",
              "      <td>NaN</td>\n",
              "      <td>NaN</td>\n",
              "      <td>NaN</td>\n",
              "      <td>http://www.rottentomatoes.com/m/godfather/</td>\n",
              "      <td>09 Oct 2001</td>\n",
              "      <td>NaN</td>\n",
              "      <td>Paramount Pictures</td>\n",
              "      <td>http://www.thegodfather.com</td>\n",
              "      <td>True</td>\n",
              "    </tr>\n",
              "    <tr>\n",
              "      <th>2</th>\n",
              "      <td>3</td>\n",
              "      <td>The Godfather: Part II</td>\n",
              "      <td>1974</td>\n",
              "      <td>R</td>\n",
              "      <td>20 Dec 1974</td>\n",
              "      <td>202 min</td>\n",
              "      <td>Crime, Drama</td>\n",
              "      <td>Francis Ford Coppola</td>\n",
              "      <td>Francis Ford Coppola (screenplay), Mario Puzo ...</td>\n",
              "      <td>Al Pacino, Robert Duvall, Diane Keaton, Robert...</td>\n",
              "      <td>The early life and career of Vito Corleone in ...</td>\n",
              "      <td>English, Italian, Spanish, Latin, Sicilian</td>\n",
              "      <td>USA</td>\n",
              "      <td>Won 6 Oscars. Another 10 wins &amp; 20 nominations.</td>\n",
              "      <td>https://images-na.ssl-images-amazon.com/images...</td>\n",
              "      <td>Internet Movie Database</td>\n",
              "      <td>9.0/10</td>\n",
              "      <td>85.0</td>\n",
              "      <td>9.0</td>\n",
              "      <td>856,870</td>\n",
              "      <td>tt0071562</td>\n",
              "      <td>movie</td>\n",
              "      <td>NaN</td>\n",
              "      <td>NaN</td>\n",
              "      <td>NaN</td>\n",
              "      <td>NaN</td>\n",
              "      <td>NaN</td>\n",
              "      <td>NaN</td>\n",
              "      <td>NaN</td>\n",
              "      <td>NaN</td>\n",
              "      <td>NaN</td>\n",
              "      <td>NaN</td>\n",
              "      <td>http://www.rottentomatoes.com/m/godfather_part...</td>\n",
              "      <td>24 May 2005</td>\n",
              "      <td>NaN</td>\n",
              "      <td>Paramount Pictures</td>\n",
              "      <td>http://www.thegodfather.com/</td>\n",
              "      <td>True</td>\n",
              "    </tr>\n",
              "    <tr>\n",
              "      <th>3</th>\n",
              "      <td>4</td>\n",
              "      <td>The Dark Knight</td>\n",
              "      <td>2008</td>\n",
              "      <td>PG-13</td>\n",
              "      <td>18 Jul 2008</td>\n",
              "      <td>152 min</td>\n",
              "      <td>Action, Crime, Drama</td>\n",
              "      <td>Christopher Nolan</td>\n",
              "      <td>Jonathan Nolan (screenplay), Christopher Nolan...</td>\n",
              "      <td>Christian Bale, Heath Ledger, Aaron Eckhart, M...</td>\n",
              "      <td>When the menace known as the Joker emerges fro...</td>\n",
              "      <td>English, Mandarin</td>\n",
              "      <td>USA, UK</td>\n",
              "      <td>Won 2 Oscars. Another 151 wins &amp; 153 nominations.</td>\n",
              "      <td>https://images-na.ssl-images-amazon.com/images...</td>\n",
              "      <td>Internet Movie Database</td>\n",
              "      <td>9.0/10</td>\n",
              "      <td>82.0</td>\n",
              "      <td>9.0</td>\n",
              "      <td>1,802,351</td>\n",
              "      <td>tt0468569</td>\n",
              "      <td>movie</td>\n",
              "      <td>NaN</td>\n",
              "      <td>NaN</td>\n",
              "      <td>NaN</td>\n",
              "      <td>NaN</td>\n",
              "      <td>NaN</td>\n",
              "      <td>NaN</td>\n",
              "      <td>NaN</td>\n",
              "      <td>NaN</td>\n",
              "      <td>NaN</td>\n",
              "      <td>NaN</td>\n",
              "      <td>http://www.rottentomatoes.com/m/the_dark_knight/</td>\n",
              "      <td>09 Dec 2008</td>\n",
              "      <td>$533,316,061</td>\n",
              "      <td>Warner Bros. Pictures/Legendary</td>\n",
              "      <td>http://thedarkknight.warnerbros.com/</td>\n",
              "      <td>True</td>\n",
              "    </tr>\n",
              "    <tr>\n",
              "      <th>4</th>\n",
              "      <td>5</td>\n",
              "      <td>12 Angry Men</td>\n",
              "      <td>1957</td>\n",
              "      <td>APPROVED</td>\n",
              "      <td>01 Apr 1957</td>\n",
              "      <td>96 min</td>\n",
              "      <td>Crime, Drama</td>\n",
              "      <td>Sidney Lumet</td>\n",
              "      <td>Reginald Rose (story), Reginald Rose (screenplay)</td>\n",
              "      <td>Martin Balsam, John Fiedler, Lee J. Cobb, E.G....</td>\n",
              "      <td>A jury holdout attempts to prevent a miscarria...</td>\n",
              "      <td>English</td>\n",
              "      <td>USA</td>\n",
              "      <td>Nominated for 3 Oscars. Another 16 wins &amp; 8 no...</td>\n",
              "      <td>https://images-na.ssl-images-amazon.com/images...</td>\n",
              "      <td>Internet Movie Database</td>\n",
              "      <td>8.9/10</td>\n",
              "      <td>96.0</td>\n",
              "      <td>8.9</td>\n",
              "      <td>494,215</td>\n",
              "      <td>tt0050083</td>\n",
              "      <td>movie</td>\n",
              "      <td>NaN</td>\n",
              "      <td>NaN</td>\n",
              "      <td>NaN</td>\n",
              "      <td>NaN</td>\n",
              "      <td>NaN</td>\n",
              "      <td>NaN</td>\n",
              "      <td>NaN</td>\n",
              "      <td>NaN</td>\n",
              "      <td>NaN</td>\n",
              "      <td>NaN</td>\n",
              "      <td>http://www.rottentomatoes.com/m/1000013-12_ang...</td>\n",
              "      <td>06 Mar 2001</td>\n",
              "      <td>NaN</td>\n",
              "      <td>Criterion Collection</td>\n",
              "      <td>http://www.criterion.com/films/27871-12-angry-men</td>\n",
              "      <td>True</td>\n",
              "    </tr>\n",
              "  </tbody>\n",
              "</table>\n",
              "</div>"
            ],
            "text/plain": [
              "   Unnamed: 0  ... Response\n",
              "0           1  ...     True\n",
              "1           2  ...     True\n",
              "2           3  ...     True\n",
              "3           4  ...     True\n",
              "4           5  ...     True\n",
              "\n",
              "[5 rows x 38 columns]"
            ]
          },
          "metadata": {
            "tags": []
          },
          "execution_count": 22
        }
      ]
    },
    {
      "cell_type": "markdown",
      "metadata": {
        "id": "hqllGhfCaKqF"
      },
      "source": [
        "### Limpieza del dataset"
      ]
    },
    {
      "cell_type": "markdown",
      "metadata": {
        "id": "K_-ZEkrjZXoP"
      },
      "source": [
        "Viendo que cada fila (película) contiene 38 columnas o características, se han decidico coger las que pueden ser más interesantes o representativas sobre una película:\n",
        "\n",
        "1.   Titulo.\n",
        "2.   Genero.\n",
        "3.   Director.\n",
        "4.   Actores.\n",
        "5.   Trama o Resumen de la película.\n"
      ]
    },
    {
      "cell_type": "code",
      "metadata": {
        "id": "c0WAlLIqwzJz",
        "colab": {
          "base_uri": "https://localhost:8080/",
          "height": 204
        },
        "outputId": "00d2d283-e3f0-4121-e603-3569ee9520eb"
      },
      "source": [
        "#Coger las columnas de director, genero, director, actores y trama de cada pelicula\n",
        "df = df[['Title','Genre','Director','Actors','Plot']]\n",
        "df.head()"
      ],
      "execution_count": null,
      "outputs": [
        {
          "output_type": "execute_result",
          "data": {
            "text/html": [
              "<div>\n",
              "<style scoped>\n",
              "    .dataframe tbody tr th:only-of-type {\n",
              "        vertical-align: middle;\n",
              "    }\n",
              "\n",
              "    .dataframe tbody tr th {\n",
              "        vertical-align: top;\n",
              "    }\n",
              "\n",
              "    .dataframe thead th {\n",
              "        text-align: right;\n",
              "    }\n",
              "</style>\n",
              "<table border=\"1\" class=\"dataframe\">\n",
              "  <thead>\n",
              "    <tr style=\"text-align: right;\">\n",
              "      <th></th>\n",
              "      <th>Title</th>\n",
              "      <th>Genre</th>\n",
              "      <th>Director</th>\n",
              "      <th>Actors</th>\n",
              "      <th>Plot</th>\n",
              "    </tr>\n",
              "  </thead>\n",
              "  <tbody>\n",
              "    <tr>\n",
              "      <th>0</th>\n",
              "      <td>The Shawshank Redemption</td>\n",
              "      <td>Crime, Drama</td>\n",
              "      <td>Frank Darabont</td>\n",
              "      <td>Tim Robbins, Morgan Freeman, Bob Gunton, Willi...</td>\n",
              "      <td>Two imprisoned men bond over a number of years...</td>\n",
              "    </tr>\n",
              "    <tr>\n",
              "      <th>1</th>\n",
              "      <td>The Godfather</td>\n",
              "      <td>Crime, Drama</td>\n",
              "      <td>Francis Ford Coppola</td>\n",
              "      <td>Marlon Brando, Al Pacino, James Caan, Richard ...</td>\n",
              "      <td>The aging patriarch of an organized crime dyna...</td>\n",
              "    </tr>\n",
              "    <tr>\n",
              "      <th>2</th>\n",
              "      <td>The Godfather: Part II</td>\n",
              "      <td>Crime, Drama</td>\n",
              "      <td>Francis Ford Coppola</td>\n",
              "      <td>Al Pacino, Robert Duvall, Diane Keaton, Robert...</td>\n",
              "      <td>The early life and career of Vito Corleone in ...</td>\n",
              "    </tr>\n",
              "    <tr>\n",
              "      <th>3</th>\n",
              "      <td>The Dark Knight</td>\n",
              "      <td>Action, Crime, Drama</td>\n",
              "      <td>Christopher Nolan</td>\n",
              "      <td>Christian Bale, Heath Ledger, Aaron Eckhart, M...</td>\n",
              "      <td>When the menace known as the Joker emerges fro...</td>\n",
              "    </tr>\n",
              "    <tr>\n",
              "      <th>4</th>\n",
              "      <td>12 Angry Men</td>\n",
              "      <td>Crime, Drama</td>\n",
              "      <td>Sidney Lumet</td>\n",
              "      <td>Martin Balsam, John Fiedler, Lee J. Cobb, E.G....</td>\n",
              "      <td>A jury holdout attempts to prevent a miscarria...</td>\n",
              "    </tr>\n",
              "  </tbody>\n",
              "</table>\n",
              "</div>"
            ],
            "text/plain": [
              "                      Title  ...                                               Plot\n",
              "0  The Shawshank Redemption  ...  Two imprisoned men bond over a number of years...\n",
              "1             The Godfather  ...  The aging patriarch of an organized crime dyna...\n",
              "2    The Godfather: Part II  ...  The early life and career of Vito Corleone in ...\n",
              "3           The Dark Knight  ...  When the menace known as the Joker emerges fro...\n",
              "4              12 Angry Men  ...  A jury holdout attempts to prevent a miscarria...\n",
              "\n",
              "[5 rows x 5 columns]"
            ]
          },
          "metadata": {
            "tags": []
          },
          "execution_count": 23
        }
      ]
    },
    {
      "cell_type": "markdown",
      "metadata": {
        "id": "Rkek0lD5Y8W1"
      },
      "source": [
        "Se ha utilizado la función ***Rake*** implementada en el paquete ***nltk*** de python para extraer palabras clave de la columna \"Trama\" (\"Plot\") de las películas, por lo que en lugar de utilizar las frases completas que describen la trama, solo se considerarán las palabras más relevantes en la descripción.\n",
        "\n",
        "Aparte de eso, las otras columnas también necesitan limpieza. Es recomendable que todas las palabras estén en minúsculas para evitar duplicaciones, y también se ha decicido combinar todos los nombres y apellidos en una sola palabra. Porque, podría ocurrir lo siguiente: si tenemos la película A donde el director es Danny Boyle, y la película B donde uno de los actores principales es Danny DeVito, el recomendador detectará una similitud por su primer nombre y eso es algo que perjudicaría la calidad de recomendación.\n",
        "\n",
        "Es mejor que el recomendador detecte una similitud solo si la persona asociada a diferentes películas es exactamente la misma, y no solo por tener el mismo nombre."
      ]
    },
    {
      "cell_type": "code",
      "metadata": {
        "id": "oubSFyfewtJr",
        "colab": {
          "base_uri": "https://localhost:8080/",
          "height": 235
        },
        "outputId": "982c2716-b139-4510-d3e9-78c50398b55b"
      },
      "source": [
        "\n",
        "#Columna nueva con las palabras clave\n",
        "df['Palabras_clave'] = \"\"\n",
        "\n",
        "#Iterar sobre todas las peliculas\n",
        "for index, row in df.iterrows():\n",
        "    #Seleccionar la columna de trama de cada pelicula\n",
        "    trama = row['Plot']\n",
        "    \n",
        "    #Poner todas las palabras en minusculas y juntarlas (preprocesado para evitar duplicaciones)\n",
        "    #row['Title']=row['Title'].lower().replace(' ', '')\n",
        "    row['Genre']=row['Genre'].lower()\n",
        "    row['Director']=row['Director'].lower().replace(' ', '')\n",
        "    row['Actors']=row['Actors'].lower().replace(' ', '')\n",
        "\n",
        "\n",
        "    #Instanciar Rake, por defecto en ingles de NLTK, y descarta la puntuacion\n",
        "    r = Rake()\n",
        "\n",
        "    #Extraer palabras pasando el texto\n",
        "    r.extract_keywords_from_text(trama)\n",
        "\n",
        "    #Obtener diccionario con las palabras clave y las puntuaciones\n",
        "    dict_scores = r.get_word_degrees()\n",
        "    \n",
        "    #Asignar las palabras clave a la nueva columna para la pelicula correspondiente\n",
        "    row['Palabras_clave'] = list(dict_scores.keys())\n",
        "\n",
        "#Eliminar columna plot\n",
        "df.drop(columns = ['Plot'], inplace = True)\n",
        "\n",
        "#Poner las palabras de las columnas genero y actores por separado\n",
        "df['Genre'] = df['Genre'].map(lambda x: x.split(','))\n",
        "df['Actors'] = df['Actors'].map(lambda x: x.split(','))\n",
        "\n",
        "#Poner el titulo de la pelicula como columna indice del dataframe\n",
        "df.set_index('Title', inplace = True)\n",
        "df.head()\n"
      ],
      "execution_count": null,
      "outputs": [
        {
          "output_type": "execute_result",
          "data": {
            "text/html": [
              "<div>\n",
              "<style scoped>\n",
              "    .dataframe tbody tr th:only-of-type {\n",
              "        vertical-align: middle;\n",
              "    }\n",
              "\n",
              "    .dataframe tbody tr th {\n",
              "        vertical-align: top;\n",
              "    }\n",
              "\n",
              "    .dataframe thead th {\n",
              "        text-align: right;\n",
              "    }\n",
              "</style>\n",
              "<table border=\"1\" class=\"dataframe\">\n",
              "  <thead>\n",
              "    <tr style=\"text-align: right;\">\n",
              "      <th></th>\n",
              "      <th>Genre</th>\n",
              "      <th>Director</th>\n",
              "      <th>Actors</th>\n",
              "      <th>Palabras_clave</th>\n",
              "    </tr>\n",
              "    <tr>\n",
              "      <th>Title</th>\n",
              "      <th></th>\n",
              "      <th></th>\n",
              "      <th></th>\n",
              "      <th></th>\n",
              "    </tr>\n",
              "  </thead>\n",
              "  <tbody>\n",
              "    <tr>\n",
              "      <th>The Shawshank Redemption</th>\n",
              "      <td>[crime,  drama]</td>\n",
              "      <td>frankdarabont</td>\n",
              "      <td>[timrobbins, morganfreeman, bobgunton, william...</td>\n",
              "      <td>[finding, solace, years, acts, eventual, redem...</td>\n",
              "    </tr>\n",
              "    <tr>\n",
              "      <th>The Godfather</th>\n",
              "      <td>[crime,  drama]</td>\n",
              "      <td>francisfordcoppola</td>\n",
              "      <td>[marlonbrando, alpacino, jamescaan, richards.c...</td>\n",
              "      <td>[reluctant, son, aging, patriarch, clandestine...</td>\n",
              "    </tr>\n",
              "    <tr>\n",
              "      <th>The Godfather: Part II</th>\n",
              "      <td>[crime,  drama]</td>\n",
              "      <td>francisfordcoppola</td>\n",
              "      <td>[alpacino, robertduvall, dianekeaton, robertde...</td>\n",
              "      <td>[family, crime, syndicate, portrayed, vito, co...</td>\n",
              "    </tr>\n",
              "    <tr>\n",
              "      <th>The Dark Knight</th>\n",
              "      <td>[action,  crime,  drama]</td>\n",
              "      <td>christophernolan</td>\n",
              "      <td>[christianbale, heathledger, aaroneckhart, mic...</td>\n",
              "      <td>[ability, gotham, physical, tests, mysterious,...</td>\n",
              "    </tr>\n",
              "    <tr>\n",
              "      <th>12 Angry Men</th>\n",
              "      <td>[crime,  drama]</td>\n",
              "      <td>sidneylumet</td>\n",
              "      <td>[martinbalsam, johnfiedler, leej.cobb, e.g.mar...</td>\n",
              "      <td>[justice, prevent, forcing, jury, holdout, att...</td>\n",
              "    </tr>\n",
              "  </tbody>\n",
              "</table>\n",
              "</div>"
            ],
            "text/plain": [
              "                                             Genre  ...                                     Palabras_clave\n",
              "Title                                               ...                                                   \n",
              "The Shawshank Redemption           [crime,  drama]  ...  [finding, solace, years, acts, eventual, redem...\n",
              "The Godfather                      [crime,  drama]  ...  [reluctant, son, aging, patriarch, clandestine...\n",
              "The Godfather: Part II             [crime,  drama]  ...  [family, crime, syndicate, portrayed, vito, co...\n",
              "The Dark Knight           [action,  crime,  drama]  ...  [ability, gotham, physical, tests, mysterious,...\n",
              "12 Angry Men                       [crime,  drama]  ...  [justice, prevent, forcing, jury, holdout, att...\n",
              "\n",
              "[5 rows x 4 columns]"
            ]
          },
          "metadata": {
            "tags": []
          },
          "execution_count": 24
        }
      ]
    },
    {
      "cell_type": "markdown",
      "metadata": {
        "id": "GTuAzqybbFD6"
      },
      "source": [
        "Una vez hecha la limpieza de todas las columnas, se han metido todas las palabras de las columnas (quitando la del título de la pelicula, la cual se utilizará como índice del dataframe) en una única columna llamada \"saco de palabras\", para realizar un conteo más sencillo."
      ]
    },
    {
      "cell_type": "code",
      "metadata": {
        "id": "go2sGG4zwkNM",
        "colab": {
          "base_uri": "https://localhost:8080/",
          "height": 235
        },
        "outputId": "fce182cd-9ae5-447f-f780-9889f8155952"
      },
      "source": [
        "#Definir columna vacia\n",
        "df['saco_palabras']=''\n",
        "columnas=df.columns\n",
        "\n",
        "#Correr todo el dataframe\n",
        "for index,row in df.iterrows():\n",
        "  palabras=''\n",
        "  for col in columnas:\n",
        "    #Si la columna no es la de director, juntar las palabras sueltas de la tupla con separacion entre ellas\n",
        "    if col!='Director':\n",
        "      palabras = palabras + ' '.join(row[col])+ ' '\n",
        "    else:\n",
        "      #Sino (director), juntar normal\n",
        "      palabras=palabras + row[col]+ ' '\n",
        "  #Meter todas las palabras en la columna de saco de palabras\n",
        "  row['saco_palabras'] = palabras\n",
        "\n",
        "#Quitar todas las columnas menos la de saco de palabras\n",
        "df.drop(columns = [col for col in df.columns if col!= 'saco_palabras'], inplace = True)\n",
        "\n",
        "df.head()"
      ],
      "execution_count": null,
      "outputs": [
        {
          "output_type": "execute_result",
          "data": {
            "text/html": [
              "<div>\n",
              "<style scoped>\n",
              "    .dataframe tbody tr th:only-of-type {\n",
              "        vertical-align: middle;\n",
              "    }\n",
              "\n",
              "    .dataframe tbody tr th {\n",
              "        vertical-align: top;\n",
              "    }\n",
              "\n",
              "    .dataframe thead th {\n",
              "        text-align: right;\n",
              "    }\n",
              "</style>\n",
              "<table border=\"1\" class=\"dataframe\">\n",
              "  <thead>\n",
              "    <tr style=\"text-align: right;\">\n",
              "      <th></th>\n",
              "      <th>saco_palabras</th>\n",
              "    </tr>\n",
              "    <tr>\n",
              "      <th>Title</th>\n",
              "      <th></th>\n",
              "    </tr>\n",
              "  </thead>\n",
              "  <tbody>\n",
              "    <tr>\n",
              "      <th>The Shawshank Redemption</th>\n",
              "      <td>crime  drama frankdarabont timrobbins morganfr...</td>\n",
              "    </tr>\n",
              "    <tr>\n",
              "      <th>The Godfather</th>\n",
              "      <td>crime  drama francisfordcoppola marlonbrando a...</td>\n",
              "    </tr>\n",
              "    <tr>\n",
              "      <th>The Godfather: Part II</th>\n",
              "      <td>crime  drama francisfordcoppola alpacino rober...</td>\n",
              "    </tr>\n",
              "    <tr>\n",
              "      <th>The Dark Knight</th>\n",
              "      <td>action  crime  drama christophernolan christia...</td>\n",
              "    </tr>\n",
              "    <tr>\n",
              "      <th>12 Angry Men</th>\n",
              "      <td>crime  drama sidneylumet martinbalsam johnfied...</td>\n",
              "    </tr>\n",
              "  </tbody>\n",
              "</table>\n",
              "</div>"
            ],
            "text/plain": [
              "                                                              saco_palabras\n",
              "Title                                                                      \n",
              "The Shawshank Redemption  crime  drama frankdarabont timrobbins morganfr...\n",
              "The Godfather             crime  drama francisfordcoppola marlonbrando a...\n",
              "The Godfather: Part II    crime  drama francisfordcoppola alpacino rober...\n",
              "The Dark Knight           action  crime  drama christophernolan christia...\n",
              "12 Angry Men              crime  drama sidneylumet martinbalsam johnfied..."
            ]
          },
          "metadata": {
            "tags": []
          },
          "execution_count": 25
        }
      ]
    },
    {
      "cell_type": "markdown",
      "metadata": {
        "id": "sOkDwiLpbKBQ"
      },
      "source": [
        "Para detectar similitudes entre películas, se necesita vectorizar los datos para calcular la similitud entre estos. Se ha decicido usar la función ***CountVectorizer*** para crear un contador de frecuencia simple para cada palabra en la columna \"Saco de palabras\".\n"
      ]
    },
    {
      "cell_type": "code",
      "metadata": {
        "id": "iWRUSwq7pMrX",
        "colab": {
          "base_uri": "https://localhost:8080/"
        },
        "outputId": "38d5b80e-7e3d-4b83-8575-8dbdaf6de584"
      },
      "source": [
        "#Instanciar y generar matriz de conteo con la columna de saco de palabras\n",
        "count = CountVectorizer()\n",
        "count_matrix=count.fit_transform(df['saco_palabras'])\n",
        "\n",
        "#Crear una serie para los titulos de las peliculas, para tener un orden numerico\n",
        "#(utilizado para hacer un matching the los indices a la hora de la recomendación)\n",
        "indices = pd.Series(df.index)\n",
        "indices[:5]"
      ],
      "execution_count": null,
      "outputs": [
        {
          "output_type": "execute_result",
          "data": {
            "text/plain": [
              "0    The Shawshank Redemption\n",
              "1               The Godfather\n",
              "2      The Godfather: Part II\n",
              "3             The Dark Knight\n",
              "4                12 Angry Men\n",
              "Name: Title, dtype: object"
            ]
          },
          "metadata": {
            "tags": []
          },
          "execution_count": 26
        }
      ]
    },
    {
      "cell_type": "markdown",
      "metadata": {
        "id": "Avz1WgOccQWW"
      },
      "source": [
        "Una vez que se tiene la matriz que contiene el recuento de cada palabra, se puede aplicar la función de similadirad del coseno mediante la función ***cosine_similarity***."
      ]
    },
    {
      "cell_type": "code",
      "metadata": {
        "id": "AoFS6Pq6pvtF",
        "colab": {
          "base_uri": "https://localhost:8080/"
        },
        "outputId": "375de2fc-383a-4e0e-e0cd-fa79a4fd29be"
      },
      "source": [
        "#Matriz de similitud de coseno\n",
        "cosine_sim = cosine_similarity(count_matrix, count_matrix)\n",
        "cosine_sim"
      ],
      "execution_count": null,
      "outputs": [
        {
          "output_type": "execute_result",
          "data": {
            "text/plain": [
              "array([[1.        , 0.14638501, 0.1315587 , ..., 0.05      , 0.05      ,\n",
              "        0.05270463],\n",
              "       [0.14638501, 1.        , 0.34236839, ..., 0.048795  , 0.048795  ,\n",
              "        0.05143445],\n",
              "       [0.1315587 , 0.34236839, 1.        , ..., 0.0438529 , 0.0438529 ,\n",
              "        0.04622502],\n",
              "       ...,\n",
              "       [0.05      , 0.048795  , 0.0438529 , ..., 1.        , 0.05      ,\n",
              "        0.05270463],\n",
              "       [0.05      , 0.048795  , 0.0438529 , ..., 0.05      , 1.        ,\n",
              "        0.05270463],\n",
              "       [0.05270463, 0.05143445, 0.04622502, ..., 0.05270463, 0.05270463,\n",
              "        1.        ]])"
            ]
          },
          "metadata": {
            "tags": []
          },
          "execution_count": 27
        }
      ]
    },
    {
      "cell_type": "markdown",
      "metadata": {
        "id": "1mHsLeFVcSt-"
      },
      "source": [
        "## Creación de la función de recomendación"
      ]
    },
    {
      "cell_type": "markdown",
      "metadata": {
        "id": "rd7CY9_tceee"
      },
      "source": [
        "Para la función de recomendación, se ha decicido que la función tome el título de una película como entrada y devuelva las 10 películas más similares (valor de similaridad más alto).  \n",
        "\n",
        "Para ello, una vez que se recibe el titulo como parametro, se buscan los 10 valores más altos (descartando el valor unitario, para que la función no devuelva el mismo título de la película que se introdujo) dentro de la fila correspondiente a la película ingresada, se obtienen los índices correspondientes y se emparejan con la serie de títulos de películas, para devolver la lista de películas recomendadas. "
      ]
    },
    {
      "cell_type": "code",
      "metadata": {
        "id": "i5udjcE0p57O"
      },
      "source": [
        "#funcion que recive un titulo de pelicula y devuelte el top10 de peliculas recomendadas \n",
        "def recomendacion(titulo, cosine_sim=cosine_sim):\n",
        "  pelis_recomendadas=[]\n",
        "\n",
        "  #Coger el indice de la pelicula pasada como parametro\n",
        "  indice= indices[indices==titulo].index[0]\n",
        "\n",
        "  #crear una serie con las puntuaciones de similitud en orden descendente\n",
        "  puntuacion_serie=pd.Series(cosine_sim[indice]).sort_values(ascending = False)\n",
        "\n",
        "  #coger indices de las 10 peliculas mas similares, coger valores del indice 1 en adelante, indice 0 es el propio titulo con similitud 1\n",
        "  top_10_indices = list(puntuacion_serie.iloc[1:11].index)\n",
        "    \n",
        "  #poblar la lista con los titulos de las 10 peliculas mas similares\n",
        "  for i in top_10_indices:\n",
        "      pelis_recomendadas.append(list(df.index)[i])\n",
        "        \n",
        "  return pelis_recomendadas"
      ],
      "execution_count": null,
      "outputs": []
    },
    {
      "cell_type": "markdown",
      "metadata": {
        "id": "fvH0oTWDdOY7"
      },
      "source": [
        "###Ejemplo de llamada de la función de recomendación"
      ]
    },
    {
      "cell_type": "code",
      "metadata": {
        "id": "n0evMrRjrUjJ",
        "colab": {
          "base_uri": "https://localhost:8080/"
        },
        "outputId": "5b70d113-2e3e-4675-8f01-2e266a88bada"
      },
      "source": [
        "#Llamar a la funcion de recomendacion\n",
        "recomendacion('The Godfather')"
      ],
      "execution_count": null,
      "outputs": [
        {
          "output_type": "execute_result",
          "data": {
            "text/plain": [
              "['The Godfather: Part II',\n",
              " 'Scarface',\n",
              " 'Fargo',\n",
              " 'Rope',\n",
              " 'On the Waterfront',\n",
              " 'Goodfellas',\n",
              " 'Baby Driver',\n",
              " 'Cool Hand Luke',\n",
              " 'Casino',\n",
              " 'A Clockwork Orange']"
            ]
          },
          "metadata": {
            "tags": []
          },
          "execution_count": 29
        }
      ]
    },
    {
      "cell_type": "markdown",
      "metadata": {
        "id": "UjrJOyJodYyN"
      },
      "source": [
        "Observando los resultados, parece que se obtiene una bastante decente recomendación, como es la segunda parte de ***El Padrino***, o peliculas como ***Fargo*** o ***Scarface*** las cuales tienen el mismo tipo de género que la pelicula ***El Padrino*** (drama, crimen, etc.)."
      ]
    }
  ]
}